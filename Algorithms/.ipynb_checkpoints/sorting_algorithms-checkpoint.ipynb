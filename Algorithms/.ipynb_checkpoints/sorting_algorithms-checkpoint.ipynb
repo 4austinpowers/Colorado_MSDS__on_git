{
 "cells": [
  {
   "cell_type": "markdown",
   "metadata": {},
   "source": [
    "## Insertion Sort\n",
    "\n",
    "Sorts a list according to some ordering rule. </br>\n",
    "First, slow, way of implementing this algorithm is to scan from left to right to find the position where the element belongs and then shifting the rest of the elements over."
   ]
  },
  {
   "cell_type": "code",
   "execution_count": 45,
   "metadata": {},
   "outputs": [],
   "source": [
    "unsorted = [99, 3, 1, 2, 4 , 9, 11, 26, 0]\n",
    "\n",
    "def insertion_sort(unsorted):\n",
    "    for i in range(1, len(unsorted)):\n",
    "        pointer = unsorted[i]\n",
    "        j = i-1\n",
    "        while j >= 0 and pointer < unsorted[j] :\n",
    "                unsorted[j + 1] = unsorted[j]\n",
    "                j -= 1\n",
    "        unsorted[j+1] = pointer\n",
    "    return unsorted"
   ]
  },
  {
   "cell_type": "code",
   "execution_count": 46,
   "metadata": {},
   "outputs": [
    {
     "data": {
      "text/plain": [
       "[0, 1, 2, 3, 4, 9, 11, 26, 99]"
      ]
     },
     "execution_count": 46,
     "metadata": {},
     "output_type": "execute_result"
    }
   ],
   "source": [
    "sorte = insertion_sort(unsorted)\n",
    "sorte"
   ]
  },
  {
   "cell_type": "markdown",
   "metadata": {},
   "source": [
    "For a good resource on algorithm complexity check out this webpage: </br>\n",
    "https://www.cpp.edu/~ftang/courses/CS240/lectures/analysis.htm"
   ]
  },
  {
   "cell_type": "markdown",
   "metadata": {},
   "source": [
    "### Week One Problem Assignment\n",
    "Problem 1: Find the crossover index"
   ]
  },
  {
   "cell_type": "code",
   "execution_count": 38,
   "metadata": {},
   "outputs": [],
   "source": [
    "#First write a \"helper\" function with two extra parameters\n",
    "# left, right that ddedscribes the search region as shown below\n",
    "\n",
    "# x and y are lists of numbers (not necessarily integers)\n",
    "\n",
    "def findCrossoverIndexHelper(x, y, left, right):\n",
    "    # Note: Output index i such that \n",
    "    #         left <= i <= right\n",
    "    #         x[i] <= y[i]\n",
    "    # First, Write down our invariants as assertions here\n",
    "    assert(len(x) == len(y))\n",
    "    assert(left >= 0)\n",
    "    assert(left <= right-1)\n",
    "    assert(right < len(x))\n",
    "    # Here is the key property we would like to maintain.\n",
    "    assert(x[left] > y[left])\n",
    "    assert(x[right] < y[right])\n",
    "    \n",
    "    for i in range(left, right):\n",
    "        if x[i] >= y[i] and y[i+1] >= x[i+1]:\n",
    "            return i\n",
    "        \n",
    "            print(f'at index {i} {x[i]} >= {y[i]} and {y[i+1]} >= {x[i+1]}')\n",
    "\n",
    "def findCrossoverIndex(x, y):\n",
    "    assert(len(x) == len(y))\n",
    "    assert(x[0] > y[0])\n",
    "    n = len(x)\n",
    "    assert(x[n-1] < y[n-1]) # Note: this automatically ensures n >= 2 why?\n",
    "    return findCrossoverIndexHelper(x, y, left = 0, right= n-1)\n"
   ]
  },
  {
   "cell_type": "code",
   "execution_count": 40,
   "metadata": {},
   "outputs": [
    {
     "name": "stdout",
     "output_type": "stream",
     "text": [
      "j1 = 1\n",
      "j2 = 1\n",
      "j3 = 0\n",
      "j4 = 2\n",
      "Congratulations: all test cases passed - 10 points\n"
     ]
    }
   ],
   "source": [
    "# BEGIN TEST CASES\n",
    "j1 = findCrossoverIndex([0, 1, 2, 3, 4, 5, 6, 7], [-2, 0, 4, 5, 6, 7, 8, 9])\n",
    "print('j1 = %d' % j1)\n",
    "assert j1 == 1, \"Test Case # 1 Failed\"\n",
    "\n",
    "j2 = findCrossoverIndex([0, 1, 2, 3, 4, 5, 6, 7], [-2, 0, 4, 4.2, 4.3, 4.5, 8, 9])\n",
    "print('j2 = %d' % j2)\n",
    "assert j2 == 1 or j2 == 5, \"Test Case # 2 Failed\"\n",
    "\n",
    "j3 = findCrossoverIndex([0, 1], [-10, 10])\n",
    "print('j3 = %d' % j3)\n",
    "assert j3 == 0, \"Test Case # 3 failed\"\n",
    "\n",
    "j4 = findCrossoverIndex([0,1, 2, 3], [-10, -9, -8, 5])\n",
    "print('j4 = %d' % j4)\n",
    "assert j4 == 2, \"Test Case # 4 failed\"\n",
    "\n",
    "print('Congratulations: all test cases passed - 10 points')\n",
    "#END TEST CASES"
   ]
  },
  {
   "cell_type": "markdown",
   "metadata": {},
   "source": [
    "The complexity of the algorith is linear because there are no for loops and the comparisons are simple linear.\n",
    "\n",
    "### Problem 2: Find the Cube Root"
   ]
  },
  {
   "cell_type": "code",
   "execution_count": 47,
   "metadata": {},
   "outputs": [
    {
     "name": "stdout",
     "output_type": "stream",
     "text": [
      "j1 = 1\n",
      "j2 = 1\n",
      "j3 = 0\n",
      "j4 = 2\n",
      "Congratulations: all test cases passed - 10 points\n"
     ]
    }
   ],
   "source": [
    "# BEGIN TEST CASES\n",
    "j1 = findCrossoverIndex([0, 1, 2, 3, 4, 5, 6, 7], [-2, 0, 4, 5, 6, 7, 8, 9])\n",
    "print('j1 = %d' % j1)\n",
    "assert j1 == 1, \"Test Case # 1 Failed\"\n",
    "\n",
    "j2 = findCrossoverIndex([0, 1, 2, 3, 4, 5, 6, 7], [-2, 0, 4, 4.2, 4.3, 4.5, 8, 9])\n",
    "print('j2 = %d' % j2)\n",
    "assert j2 == 1 or j2 == 5, \"Test Case # 2 Failed\"\n",
    "\n",
    "j3 = findCrossoverIndex([0, 1], [-10, 10])\n",
    "print('j3 = %d' % j3)\n",
    "assert j3 == 0, \"Test Case # 3 failed\"\n",
    "\n",
    "j4 = findCrossoverIndex([0,1, 2, 3], [-10, -9, -8, 5])\n",
    "print('j4 = %d' % j4)\n",
    "assert j4 == 2, \"Test Case # 4 failed\"\n",
    "\n",
    "print('Congratulations: all test cases passed - 10 points')\n",
    "#END TEST CASES"
   ]
  },
  {
   "cell_type": "code",
   "execution_count": 73,
   "metadata": {},
   "outputs": [],
   "source": [
    "def integerCubeRootHelper(n, left, right):\n",
    "    cube = lambda x: x * x * x # anonymous function to cube a number\n",
    "    assert(n >= 1)\n",
    "    assert(left < right)\n",
    "    assert(left >= 0)\n",
    "    assert(right < n)\n",
    "    assert(cube(left) < n)\n",
    "    assert(cube(right) > n)\n",
    "    for i in range(n):\n",
    "        if cube(i) <= n and cube(i+1) > n:\n",
    "            return i\n",
    "        \n",
    "# Write down the main function\n",
    "def integerCubeRoot(n):\n",
    "    assert( n > 0)\n",
    "    if (n == 1): \n",
    "        return 1\n",
    "    if (n == 2):\n",
    "        return 1\n",
    "    return integerCubeRootHelper(n, 0, n-1)"
   ]
  },
  {
   "cell_type": "code",
   "execution_count": 74,
   "metadata": {},
   "outputs": [
    {
     "data": {
      "text/plain": [
       "1"
      ]
     },
     "execution_count": 74,
     "metadata": {},
     "output_type": "execute_result"
    }
   ],
   "source": [
    "n = 4\n",
    "\n",
    "integerCubeRootHelper(n, left=0, right=n-1)"
   ]
  },
  {
   "cell_type": "code",
   "execution_count": 75,
   "metadata": {},
   "outputs": [
    {
     "name": "stdout",
     "output_type": "stream",
     "text": [
      "Congrats: All tests passed! (10 points)\n"
     ]
    }
   ],
   "source": [
    "assert(integerCubeRoot(1) == 1)\n",
    "assert(integerCubeRoot(2) == 1)\n",
    "assert(integerCubeRoot(4) == 1)\n",
    "assert(integerCubeRoot(7) == 1)\n",
    "assert(integerCubeRoot(8) == 2)\n",
    "assert(integerCubeRoot(20) == 2)\n",
    "assert(integerCubeRoot(26) == 2)\n",
    "for j in range(27, 64):\n",
    "    assert(integerCubeRoot(j) == 3)\n",
    "for j in range(64,125):\n",
    "    assert(integerCubeRoot(j) == 4)\n",
    "for j in range(125, 216):\n",
    "    assert(integerCubeRoot(j) == 5)\n",
    "for j in range(216, 343):\n",
    "    assert(integerCubeRoot(j) == 6)\n",
    "for j in range(343, 512):\n",
    "    assert(integerCubeRoot(j) == 7)\n",
    "print('Congrats: All tests passed! (10 points)')"
   ]
  },
  {
   "cell_type": "markdown",
   "metadata": {},
   "source": [
    "## Problem 3: MergeSort"
   ]
  },
  {
   "cell_type": "code",
   "execution_count": 87,
   "metadata": {},
   "outputs": [],
   "source": [
    "def twoWayMerge(lst1, lst2):\n",
    "    # Implement the two way merge algorithm on \n",
    "    #          two ascending order sorted lists\n",
    "    # return a fresh ascending order sorted list that \n",
    "    #          merges lst1 and lst2\n",
    "    n1 = len(lst1)\n",
    "    n2 = len(lst2)\n",
    "    output_lst = [] # This is the list we will return\n",
    "    i1 = 0\n",
    "    i2 = 0\n",
    "    while (i1 < n1 or i2 < n2):\n",
    "        if i1 < n1 and i2 < n2: # We are processing both lists\n",
    "            if (lst1[i1] <= lst2[i2]): # lst[i1] is the smaller elt\n",
    "                output_lst.append(lst1[i1]) # append to end of output list\n",
    "                i1 = i1 + 1 # advance index i1\n",
    "            else:\n",
    "                output_lst.append(lst2[i2]) # append to end of output list\n",
    "                i2 = i2 + 1 # advance index i2\n",
    "        elif i1 < n1: # We have run past the end of lst2\n",
    "            output_lst.append(lst1[i1]) # append lst1 to end of output list\n",
    "            i1 = i1 + 1\n",
    "        else:  # We have run past the end of lst1\n",
    "            output_lst.append(lst2[i2]) # append lst2 to end of output list\n",
    "            i2 = i2 + 1\n",
    "    return output_lst\n",
    "\n",
    "def oneStepKWayMerge(list_of_lists):\n",
    "    if (len(list_of_lists) <= 1):\n",
    "        return list_of_lists\n",
    "    ret_list_of_lists = []\n",
    "    k = len(list_of_lists)\n",
    "    for i in range(0, k, 2):\n",
    "        if (i < k-1):\n",
    "            ret_list_of_lists.append(twoWayMerge(list_of_lists[i], list_of_lists[i+1]))\n",
    "        else: \n",
    "            ret_list_of_lists.append(list_of_lists[k-1])\n",
    "    return ret_list_of_lists\n",
    "\n",
    "def kWayMerge(list_of_lists):\n",
    "    k = len(list_of_lists)\n",
    "    if k == 1:\n",
    "        return list_of_lists[0]\n",
    "    else:\n",
    "        new_list_of_lists = oneStepKWayMerge(list_of_lists)\n",
    "        return kWayMerge(new_list_of_lists)"
   ]
  },
  {
   "cell_type": "code",
   "execution_count": 88,
   "metadata": {},
   "outputs": [
    {
     "name": "stdout",
     "output_type": "stream",
     "text": [
      "All Tests Passed = 15 points\n"
     ]
    }
   ],
   "source": [
    "# BEGIN TESTS\n",
    "lst1= kWayMerge([[1,2,3], [4,5,7],[-2,0,6],[5]])\n",
    "assert lst1 == [-2, 0, 1, 2, 3, 4, 5, 5, 6, 7], \"Test 1 failed\"\n",
    "\n",
    "lst2 = kWayMerge([[-2, 4, 5 , 8], [0, 1, 2], [-1, 3,6,7]])\n",
    "assert lst2 == [-2, -1, 0, 1, 2, 3, 4, 5, 6, 7, 8], \"Test 2 failed\"\n",
    "\n",
    "lst3 = kWayMerge([[-1, 1, 2, 3, 4, 5]])\n",
    "assert lst3 == [-1, 1, 2, 3, 4, 5], \"Test 3 Failed\"\n",
    "\n",
    "print('All Tests Passed = 15 points')\n",
    "#END TESTS"
   ]
  },
  {
   "cell_type": "code",
   "execution_count": null,
   "metadata": {},
   "outputs": [],
   "source": []
  }
 ],
 "metadata": {
  "kernelspec": {
   "display_name": "Python 3",
   "language": "python",
   "name": "python3"
  },
  "language_info": {
   "codemirror_mode": {
    "name": "ipython",
    "version": 3
   },
   "file_extension": ".py",
   "mimetype": "text/x-python",
   "name": "python",
   "nbconvert_exporter": "python",
   "pygments_lexer": "ipython3",
   "version": "3.8.6"
  }
 },
 "nbformat": 4,
 "nbformat_minor": 4
}
