{
 "cells": [
  {
   "cell_type": "markdown",
   "metadata": {},
   "source": [
    "First write a function that will return True if an array is correctly partitioned at index `k`. I.e, all elements at indices `< k` are all `<= a[k]` and all elements indices `> k` are all `> a[k]`"
   ]
  },
  {
   "cell_type": "code",
   "execution_count": null,
   "metadata": {},
   "outputs": [],
   "source": [
    "def swap(a, i, j):\n",
    "    assert 0 <= i < len(a), f'accessing index {i} beyond end of array {len(a)}'\n",
    "    assert 0 <= j < len(a), f'accessing index {j} beyond end of array {len(a)}'\n",
    "    a[i], a[j] = a[j], a[i]\n",
    "\n",
    "def tryPartition(a):\n",
    "    # implementation of Lomuto partitioning algorithm\n",
    "    n = len(a)\n",
    "    pivot = a[n-1] # choose last element as the pivot.\n",
    "    i,j = 0,0 # initialize i and j both to be 0\n",
    "    for j in range(n-1): # j = 0 to n-2 (inclusive)\n",
    "        # Invariant: a[0] .. a[i] are <= pivot\n",
    "        #            a[i+1]...a[j-1] are > pivot\n",
    "        if a[j] <= pivot: \n",
    "            swap(a, i+1, j)\n",
    "            i = i + 1\n",
    "    swap(a, i+1, n-1) # place pivot in its correct place.\n",
    "    return i+1 # return the index where we placed the pivot\n",
    "\n",
    "def testIfPartitioned(a, k):\n",
    "    # TODO : test if all elements at indices < k are all <= a[k]\n",
    "    #         and all elements at indices > k are all > a[k]\n",
    "    # return TRUE if the array is correctly partitioned around a[k] and return FALSE otherwise\n",
    "    assert 0 <= k < len(a)\n",
    "    # your code here\n",
    "    \n",
    "    "
   ]
  },
  {
   "cell_type": "code",
   "execution_count": null,
   "metadata": {},
   "outputs": [],
   "source": [
    "assert testIfPartitioned([-1, 5, 2, 3, 4, 8, 9, 14, 10, 23],5) == True, ' Test # 1 failed.'\n",
    "assert testIfPartitioned([-1, 5, 2, 3, 4, 8, 9, 14, 11, 23],4) == False, ' Test # 2 failed.'\n",
    "assert testIfPartitioned([-1, 5, 2, 3, 4, 8, 9, 14, 23, 21],0) == True, ' Test # 3 failed.'\n",
    "assert testIfPartitioned([-1, 5, 2, 3, 4, 8, 9, 14, 22, 23],9) == True, ' Test # 4 failed.'\n",
    "assert testIfPartitioned([-1, 5, 2, 3, 4, 8, 9, 14, 8, 23],5) == False, ' Test # 5 failed.'\n",
    "assert testIfPartitioned([-1, 5, 2, 3, 4, 8, 9, 13, 9, -11],5) == False, ' Test # 6 failed.'\n",
    "assert testIfPartitioned([4, 4, 4, 4, 4, 8, 9, 13, 9, 11],4) == True, ' Test # 7 failed.'\n",
    "print('Passed all tests (10 points)')"
   ]
  },
  {
   "cell_type": "code",
   "execution_count": null,
   "metadata": {},
   "outputs": [],
   "source": [
    "# Write an array called a1 that will be incorrectly partitioned by the tryPartition algorithm above\n",
    "# Your input when run on tryPartition algorithm should raise an out of bounds array access exception\n",
    "# in the swap function or fail to partition correctly. \n",
    "\n",
    "## Define an array a1 below of length > 0 that will be incorrectly partitioned by tryPartition algorithm.\n",
    "## We will test whether your solution works in the subsequent cells.\n",
    "# your code here\n",
    "\n",
    "assert( len(a1) > 0)\n",
    "\n",
    "# Write an array called a2 that will be incorrectly partitioned by the tryPartition algorithm above\n",
    "# Your input when run on tryPartition algorithm should raise an out of bounds array access exception\n",
    "# in the swap function or fail to partition correctly. \n",
    "# a2 must be different from a1\n",
    "\n",
    "# your code here\n",
    "\n",
    "assert( len(a2) > 0)\n",
    "assert (a1 != a2)\n",
    "\n",
    "\n",
    "# Write an array called a3 that will be incorrectly partitioned by the tryPartition algorithm above\n",
    "# Your input when run on tryPartition algorithm should raise an out of bounds array access exception\n",
    "# in the swap function or fail to partition correctly. \n",
    "# a3 must be different from a1, a2\n",
    "\n",
    "# your code here\n",
    "\n",
    "assert( len(a3) > 0)\n",
    "assert (a3 != a2)\n",
    "assert (a3 != a1)\n",
    "\n",
    "def dummyFunction():\n",
    "    pass\n"
   ]
  },
  {
   "cell_type": "code",
   "execution_count": null,
   "metadata": {},
   "outputs": [],
   "source": [
    "try:\n",
    "    j1 = tryPartition(a1)\n",
    "    assert not testIfPartitioned(a1, j1)\n",
    "    print('Partitioning was unsuccessful - this is what you were asked to break the code')\n",
    "except Exception as e: \n",
    "    print(f'Assertion failed {e} - this is fine since you were asked to break the code.')\n",
    "    \n",
    "try:\n",
    "    j2 = tryPartition(a2)\n",
    "    assert not testIfPartitioned(a2, j2)\n",
    "except Exception as e: \n",
    "    print(f'Assertion failed {e} - this is fine since you were asked to break the code.')\n",
    "    \n",
    "\n",
    "try:\n",
    "    j3 = tryPartition(a3)\n",
    "    assert not testIfPartitioned(a3, j3)\n",
    "except Exception as e: \n",
    "    print(f'Assertion failed {e} - this is fine since you were asked to break the code.')\n",
    "    \n",
    "dummyFunction()\n",
    "\n",
    "print('Passed 5 points!')\n"
   ]
  }
 ],
 "metadata": {
  "kernelspec": {
   "display_name": "Python 3",
   "language": "python",
   "name": "python3"
  },
  "language_info": {
   "codemirror_mode": {
    "name": "ipython",
    "version": 3
   },
   "file_extension": ".py",
   "mimetype": "text/x-python",
   "name": "python",
   "nbconvert_exporter": "python",
   "pygments_lexer": "ipython3",
   "version": "3.8.6"
  }
 },
 "nbformat": 4,
 "nbformat_minor": 4
}
