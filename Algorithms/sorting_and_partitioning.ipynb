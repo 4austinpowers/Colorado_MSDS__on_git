{
 "cells": [
  {
   "cell_type": "code",
   "execution_count": 249,
   "metadata": {},
   "outputs": [],
   "source": [
    "def swap(a, i, j):\n",
    "    assert 0 <= i < len(a), f'accessing index {i} beyond end of array {len(a)}'\n",
    "    assert 0 <= j < len(a), f'accessing index {j} beyond end of array {len(a)}'\n",
    "    a[i], a[j] = a[j], a[i]\n",
    "\n",
    "def tryPartition(a):\n",
    "    # implementation of Lomuto partitioning algorithm\n",
    "    n = len(a)\n",
    "    pivot = a[n-1] # choose last element as the pivot.\n",
    "    i,j = 0,0 # initialize i and j both to be 0\n",
    "    for j in range(n-1): # j = 0 to n-2 (inclusive)\n",
    "        # Invariant: a[0] .. a[i] are <= pivot\n",
    "        #            a[i+1]...a[j-1] are > pivot\n",
    "        if a[j] <= pivot: \n",
    "            swap(a, i+1, j)\n",
    "            i = i + 1\n",
    "    swap(a, i+1, n-1) # place pivot in its correct place.\n",
    "    return i+1 # return the index where we placed the pivot"
   ]
  },
  {
   "cell_type": "code",
   "execution_count": 250,
   "metadata": {},
   "outputs": [
    {
     "data": {
      "text/plain": [
       "True"
      ]
     },
     "execution_count": 250,
     "metadata": {},
     "output_type": "execute_result"
    }
   ],
   "source": [
    "def testIfPartitioned(a, k):\n",
    "    # TODO : test if all elements at indices < k are all <= a[k]\n",
    "    #         and all elements at indices > k are all > a[k]\n",
    "    # return TRUE if the array is correctly partitioned around a[k] and return FALSE otherwise\n",
    "    assert 0 <= k < len(a)\n",
    "    # your code here\n",
    "    if (k == len(a)-1) and min(a[0:k-1]) < a[k]:\n",
    "        return True\n",
    "    elif (k == 0) and min(a[1:]) > a[0]:\n",
    "        return True\n",
    "    else:\n",
    "        left_part = max(a[0:k]) <= a[k]\n",
    "        right_part = min(a[k+1:]) > a[k]\n",
    "   \n",
    "        return left_part and right_part\n",
    "        \n",
    "testIfPartitioned([-1, 5, 2, 3, 4, 8, 9, 14, 22, 23],9)"
   ]
  },
  {
   "cell_type": "code",
   "execution_count": 251,
   "metadata": {},
   "outputs": [
    {
     "name": "stdout",
     "output_type": "stream",
     "text": [
      "Passed all tests (10 points)\n"
     ]
    }
   ],
   "source": [
    "assert testIfPartitioned([-1, 5, 2, 3, 4, 8, 9, 14, 10, 23],5) == True, ' Test # 1 failed.'\n",
    "assert testIfPartitioned([-1, 5, 2, 3, 4, 8, 9, 14, 11, 23],4) == False, ' Test # 2 failed.'\n",
    "assert testIfPartitioned([-1, 5, 2, 3, 4, 8, 9, 14, 23, 21],0) == True, ' Test # 3 failed.'\n",
    "assert testIfPartitioned([-1, 5, 2, 3, 4, 8, 9, 14, 22, 23],9) == True, ' Test # 4 failed.'\n",
    "assert testIfPartitioned([-1, 5, 2, 3, 4, 8, 9, 14, 8, 23],5) == False, ' Test # 5 failed.'\n",
    "assert testIfPartitioned([-1, 5, 2, 3, 4, 8, 9, 13, 9, -11],5) == False, ' Test # 6 failed.'\n",
    "assert testIfPartitioned([4, 4, 4, 4, 4, 8, 9, 13, 9, 11],4) == True, ' Test # 7 failed.'\n",
    "print('Passed all tests (10 points)')"
   ]
  },
  {
   "cell_type": "code",
   "execution_count": 252,
   "metadata": {},
   "outputs": [],
   "source": [
    "def swap(a, i, j):\n",
    "    assert 0 <= i < len(a), f'accessing index {i} beyond end of array {len(a)}'\n",
    "    assert 0 <= j < len(a), f'accessing index {j} beyond end of array {len(a)}'\n",
    "    a[i], a[j] = a[j], a[i]\n",
    "\n",
    "def simplePartition(a, pivot):\n",
    "    ## To do: partition the array a according to pivot.\n",
    "    # Your array must be partitioned into two regions - <= pivot followed by elements > pivot\n",
    "    # If an element at the beginning of the array is already <= pivot, it should not be moved by the algorithm.\n",
    "    # your code here\n",
    "    i = 0 \n",
    "    j = len(a)-1\n",
    "    \n",
    "    while (i < len(a)-1) and (j >=i):\n",
    "        \n",
    "        if a[i] <= pivot:\n",
    "            i += 1\n",
    "            \n",
    "        elif a[i] > pivot:\n",
    "            swap(a, i, j)\n",
    "            j -= 1\n",
    "            \n",
    "    return a\n",
    "\n",
    "            \n",
    "            \n",
    "def boundedSort(a, k):\n",
    "    for j in range(1, k):\n",
    "        simplePartition(a, j)\n"
   ]
  },
  {
   "cell_type": "code",
   "execution_count": 253,
   "metadata": {},
   "outputs": [
    {
     "name": "stdout",
     "output_type": "stream",
     "text": [
      "[1, 3, 6, 1, 5, 4, 1, 1, 2, 3, 3, 1, 3, 5, 2, 2, 4]\n",
      "[1, 1, 1, 1, 1, 4, 5, 2, 3, 3, 6, 3, 5, 2, 2, 4, 3]\n",
      "[1, 1, 1, 1, 1, 2, 2, 2, 3, 6, 3, 5, 3, 5, 4, 3, 4]\n",
      "[1, 1, 1, 1, 1, 2, 2, 2, 3, 3, 3, 3, 5, 4, 5, 4, 6]\n",
      "[1, 1, 1, 1, 1, 2, 2, 2, 3, 3, 3, 3, 4, 4, 5, 6, 5]\n",
      "[1, 1, 1, 1, 1, 2, 2, 2, 3, 3, 3, 3, 4, 4, 5, 5, 6]\n",
      "Passed all tests : 10 points!\n"
     ]
    }
   ],
   "source": [
    "a = [1, 3, 6, 1, 5, 4, 1, 1, 2, 3, 3, 1, 3, 5, 2, 2, 4]\n",
    "print(a)\n",
    "simplePartition(a, 1)\n",
    "print(a)\n",
    "assert(a[:5] == [1,1,1,1,1]), 'Simple partition test 1 failed'\n",
    "\n",
    "simplePartition(a, 2)\n",
    "print(a)\n",
    "assert(a[:5] == [1,1,1,1,1]), 'Simple partition test 2(A) failed'\n",
    "assert(a[5:8] == [2,2,2]), 'Simple Partition test 2(B) failed'\n",
    "\n",
    "\n",
    "simplePartition(a, 3)\n",
    "print(a)\n",
    "assert(a[:5] == [1,1,1,1,1]), 'Simple partition test 3(A) failed'\n",
    "assert(a[5:8] == [2,2,2]), 'Simple Partition test 3(B) failed'\n",
    "assert(a[8:12] == [3,3,3,3]), 'Simple Partition test 3(C) failed'\n",
    "\n",
    "simplePartition(a, 4)\n",
    "print(a)\n",
    "assert(a[:5] == [1,1,1,1,1]), 'Simple partition test 4(A) failed'\n",
    "assert(a[5:8] == [2,2,2]), 'Simple Partition test 4(B) failed'\n",
    "assert(a[8:12] == [3,3,3,3]), 'Simple Partition test 4(C) failed'\n",
    "assert(a[12:14]==[4,4]), 'Simple Partition test 4(D) failed'\n",
    "\n",
    "simplePartition(a, 5)\n",
    "print(a)\n",
    "assert(a == [1]*5+[2]*3+[3]*4+[4]*2+[5]*2+[6]), 'Simple Parition test 5 failed'\n",
    "\n",
    "print('Passed all tests : 10 points!')"
   ]
  },
  {
   "cell_type": "code",
   "execution_count": 254,
   "metadata": {},
   "outputs": [],
   "source": [
    "from random import random\n",
    "\n",
    "def dot_product(lst_a, lst_b):\n",
    "    and_list = [elt_a * elt_b for (elt_a, elt_b) in zip(lst_a, lst_b)]\n",
    "    return 0 if sum(and_list)% 2 == 0 else 1\n",
    "\n",
    "# encode a matrix as a list of lists with each row as a list.\n",
    "# for instance, the example above is written as the matrix\n",
    "# H = [[0,1,0,1],[1,0,0,0],[1,0,1,1]]\n",
    "# encode column vectors simply as a list of elements.\n",
    "# you can use the dot_product function provided to you.\n",
    "def matrix_multiplication(H, lst):\n",
    "    # your code here\n",
    "    answer = []\n",
    "    for i in range(len(H)):\n",
    "        answer.append(dot_product(H[i], lst))\n",
    "    return answer\n",
    "    \n",
    "\n",
    "# Generate a random m \\times n matrix\n",
    "# see the comment next to matrix_multiplication for how your matrix must be returned.\n",
    "def return_random_hash_function(m, n):\n",
    "    # return a random hash function wherein each entry is chosen as 1 with probability >= 1/2 and 0 with probability < 1/2\n",
    "    # your code here\n",
    "    H =[]\n",
    "    for f in range(m):\n",
    "        H.append([1 if random() > 0.4 else 0 for n in range(n)])    \n",
    "    return H\n",
    "    "
   ]
  },
  {
   "cell_type": "code",
   "execution_count": 255,
   "metadata": {},
   "outputs": [
    {
     "name": "stdout",
     "output_type": "stream",
     "text": [
      "c1= [1, 1, 0]\n",
      "c2= [1, 0]\n",
      "c3= [1, 0]\n",
      "H= [[0, 0, 0, 0], [0, 1, 1, 1], [1, 0, 1, 0], [1, 1, 0, 1], [1, 0, 1, 1]]\n",
      "H2= [[0, 1, 1], [1, 0, 1], [1, 0, 1], [1, 1, 1], [0, 0, 1], [0, 0, 1]]\n",
      "Tests passed: 10 points!\n"
     ]
    }
   ],
   "source": [
    "A1 = [[0,1,0,1],[1,0,0,0],[1,0,1,1]]\n",
    "b1 = [1,1,1,0]\n",
    "c1 = matrix_multiplication(A1, b1)\n",
    "print('c1=', c1)\n",
    "assert c1 == [1,1,0] , 'Test 1 failed'\n",
    "\n",
    "A2 = [ [1,1],[0,1]]\n",
    "b2 = [1,0]\n",
    "c2 = matrix_multiplication(A2, b2)\n",
    "print('c2=', c2)\n",
    "assert c2 == [1, 0], 'Test 2 failed'\n",
    "\n",
    "A3 = [ [1,1,1,0],[0,1,1,0]]\n",
    "b3 =  [1, 0,0,1]\n",
    "c3 = matrix_multiplication(A3, b3)\n",
    "print('c3=', c3)\n",
    "assert c3 == [1, 0], 'Test 3 failed'\n",
    "\n",
    "H = return_random_hash_function(5,4)\n",
    "print('H=', H)\n",
    "assert len(H) == 5, 'Test 5 failed'\n",
    "assert all(len(row) == 4 for row in H), 'Test 6 failed'\n",
    "assert all(elt == 0 or elt == 1 for row in H for elt in row ),  'Test 7 failed'\n",
    "\n",
    "H2 = return_random_hash_function(6,3)\n",
    "print('H2=', H2)\n",
    "assert len(H2) == 6, 'Test 8 failed'\n",
    "assert all(len(row) == 3 for row in H2),  'Test 9 failed'\n",
    "assert all(elt == 0 or elt == 1 for row in H2 for elt in row ), 'Test 10 failed'\n",
    "print('Tests passed: 10 points!')"
   ]
  },
  {
   "cell_type": "code",
   "execution_count": null,
   "metadata": {},
   "outputs": [],
   "source": []
  }
 ],
 "metadata": {
  "kernelspec": {
   "display_name": "Python 3",
   "language": "python",
   "name": "python3"
  },
  "language_info": {
   "codemirror_mode": {
    "name": "ipython",
    "version": 3
   },
   "file_extension": ".py",
   "mimetype": "text/x-python",
   "name": "python",
   "nbconvert_exporter": "python",
   "pygments_lexer": "ipython3",
   "version": "3.8.6"
  }
 },
 "nbformat": 4,
 "nbformat_minor": 4
}
