{
 "cells": [
  {
   "cell_type": "markdown",
   "metadata": {},
   "source": [
    "This assignment will be reviewed by peers based upon a given rubric. Make sure to keep your answers clear and concise while demonstrating an understanding of the material. Be sure to give all requested information in markdown cells. It is recommended to utilize Latex."
   ]
  },
  {
   "cell_type": "markdown",
   "metadata": {},
   "source": [
    "### Problem 1"
   ]
  },
  {
   "cell_type": "markdown",
   "metadata": {},
   "source": [
    "What does it mean for one event $C$ to cause another event $E$ — for example, smoking ($C$) to cause cancer ($E$)? There is a long history in philosophy, statistics, and the sciences of trying to clearly analyze the concept of a cause. One tradition says that causes raise the probability of their effects; we may write this symbolically is \n",
    "$$\n",
    "%\\begin{equation} \n",
    "P(E | C)>P(E). \n",
    "%\\end{equation} \n",
    "\\qquad \\qquad (1)\n",
    "$$ "
   ]
  },
  {
   "cell_type": "markdown",
   "metadata": {},
   "source": [
    "#### Part a)\n",
    "\n",
    "Does equation (1) imply that $P(C | E) > P(C)$? If so, prove it. If not, give a counter example."
   ]
  },
  {
   "cell_type": "markdown",
   "metadata": {},
   "source": [
    "#### MY ANSWER:\n",
    "\n",
    "Yes it does. If smokers have a higher rate of cancer than the general population then people with cancer are more likely to be smokers than the general population.\n",
    "\n",
    "\n",
    "Also see the code below. No matter how you alter the values of P(C), P(E) and P(E|C):\n",
    "\n",
    "if\n",
    "$$\n",
    "%\\begin{equation} \n",
    "P(E|C) > P(E) \n",
    "%\\end{equation} \n",
    "\\qquad \\qquad\n",
    "$$\n",
    "then\n",
    "$$\n",
    "%\\begin{equation} \n",
    "P(C|E) > P(C)\n",
    "%\\end{equation} \n",
    "\\qquad \\qquad \n",
    "$$"
   ]
  },
  {
   "cell_type": "code",
   "execution_count": 17,
   "metadata": {},
   "outputs": [
    {
     "name": "stdout",
     "output_type": "stream",
     "text": [
      "[1] TRUE\n"
     ]
    }
   ],
   "source": [
    "E = 0.01\n",
    "C = 0.001\n",
    "E_given_C = 0.1\n",
    "\n",
    "C_given_E = (E_given_C *C)/E\n",
    "\n",
    "print(C_given_E > C)"
   ]
  },
  {
   "cell_type": "markdown",
   "metadata": {},
   "source": [
    "#### Part b)\n",
    "\n",
    "Another way to formulate a probabilistic theory of causation is to say that\n",
    "$$P (E | C) > P(E | C^C). \\qquad \\qquad (2)$$ Show that equation (1) implies equation (2)."
   ]
  },
  {
   "cell_type": "markdown",
   "metadata": {},
   "source": [
    "#### MY ANSWER: </br>\n",
    "\n",
    "The total probability of having cancer can be expressed as the sum of probabilities given smoking and gviven not smoking:\n",
    "\n",
    "$$ P(E) = (P(E|C)P(E) + P(E|C^C)P(E) $$\n",
    "\n",
    "If the probability of having cancer given smoking is higher than the probability of having cancer in the general population:\n",
    "\n",
    "$$ P(E|C) > P(E) $$\n",
    "\n",
    "then it follows that the probability of having cancer given you're NOT a smoker must be smaller:\n",
    "\n",
    "$$ P(E|C) > P((E|C^C) $$"
   ]
  },
  {
   "cell_type": "markdown",
   "metadata": {},
   "source": [
    "#### Part c)\n",
    "\n",
    "Let $C$ be the drop in the level of mercury in a barometer and let $E$ be a storm. Briefly describe why this leads to a problem with using equation (1) (or equation (2)) as a theory of causation."
   ]
  },
  {
   "cell_type": "markdown",
   "metadata": {},
   "source": [
    "#### MY ANSWER:\n",
    "\n",
    "The drop in the barometer doesn't necessarily cause the storm. It's only correlated. As the axiom goes: 'correlation does not necessarily imply causation'. Using this simple model you could conclude the drop in mercury pressure in the barometer causes the storm, though we know it doesn't. "
   ]
  },
  {
   "cell_type": "markdown",
   "metadata": {},
   "source": [
    "#### Part d)\n",
    "\n",
    "Let $A$, $C$, and $E$ be events. If $P(E | A \\cap C) = P(E |C )$, then $C$ is said to screen $A$ off from $E$. Suppose that $P (E \\cap C) > 0.$ Show that screening off is equivalent to saying that $P(A \\cap E | C)=P(A|C)P(E | C).$ What does this latter equation say in terms of independence?"
   ]
  },
  {
   "cell_type": "markdown",
   "metadata": {},
   "source": [
    "#### MY ANSWER:\n",
    "\n",
    "If $ P(E|A \\cap C) = P(E|C) $ then $ P(E|A) = P(E|C) $\n",
    "\n",
    "$ P(A \\cap E|C) = P(A|C)P(E|C) $\n",
    "\n",
    "E and C are independent events, but A and C are not:\n",
    "\n",
    "$ P(A \\cap C \\cap E) $ does not equal $ P(C)P(A)P(E) $"
   ]
  },
  {
   "cell_type": "markdown",
   "metadata": {},
   "source": [
    "#### Part e)\n",
    "\n",
    "Now let $A$ be a the drop in the level of mercury in a barometer, $E$ be a storm, and $C$ be a drop in atmospheric pressure. Does the result from part (d) help fix the problem suggested in part (c)?"
   ]
  },
  {
   "cell_type": "markdown",
   "metadata": {},
   "source": [
    "MY ANSWER:\n",
    "\n",
    "Barometers (with or without mercury) measure atmospheric pressure, so C and A are essentially just two observations of the same phenomenon. If these two observations correlate perfectly with the storm then it adds weight to the correlation observed in part C, but it still doesn't necessarily prove it."
   ]
  },
  {
   "cell_type": "markdown",
   "metadata": {},
   "source": [
    "# Problem 2\n",
    "\n",
    "Suppose you have two bags of marbles that are in a box. Bag 1 contains 7 white marbles, 6 black marbles, and 3 gold marbles. Bag 2 contains 4 white marbles, 5 black marbles, and 15 gold marbles. The probability of grabbing the Bag 1 from the box is twice the probability of grabbing the Bag 2.\n",
    "\n",
    "If you close your eyes, grab a bag from the box, and then grab a marble from that bag, what is the probability that it is gold?"
   ]
  },
  {
   "cell_type": "markdown",
   "metadata": {},
   "source": [
    "**Part a)** \n",
    "\n",
    "Solve this problem by hand. This should give us a theoretical value for pulling a gold marble."
   ]
  },
  {
   "cell_type": "markdown",
   "metadata": {},
   "source": [
    "The sum of the prabability of picking a gold marble from bag 1 and the prabability of picking a gold marble from bag 2\n",
    "\n",
    "You have a 2/3 probability of selecting bag 1 and a 1/3 probability of selecting bag 2.\n",
    "\n",
    "P(Gold| Bag 1) = (3/16)*0.667\n",
    "\n",
    "P(Gold| Bag 2) = (15/24)*0.333\n"
   ]
  },
  {
   "cell_type": "code",
   "execution_count": 25,
   "metadata": {},
   "outputs": [
    {
     "data": {
      "text/html": [
       "0.333333333333333"
      ],
      "text/latex": [
       "0.333333333333333"
      ],
      "text/markdown": [
       "0.333333333333333"
      ],
      "text/plain": [
       "[1] 0.3333333"
      ]
     },
     "metadata": {},
     "output_type": "display_data"
    }
   ],
   "source": [
    "p_GOLD = ((3/16) * (2/3)) + ((15/24) * (1/3))\n",
    "\n",
    "p_GOLD"
   ]
  },
  {
   "cell_type": "markdown",
   "metadata": {},
   "source": [
    "**Part b)**\n",
    "\n",
    "Create a simulation to estimate the probability of pulling a gold marble. Assume you put the marble back in the bag each time you pull one out. Make sure to run the simulation enough times to be confident in your final result.\n",
    "\n",
    "Note: To generate $n$ random values between [0,1], use the `runif(n)` function. This function generates $n$ random variables from the Uniform(0,1) distribution, which we will learn more about later in this course!"
   ]
  },
  {
   "cell_type": "code",
   "execution_count": 18,
   "metadata": {},
   "outputs": [
    {
     "data": {
      "text/plain": [
       "Gold\n",
       "    GOLD NOT GOLD \n",
       "    34.4     65.6 "
      ]
     },
     "metadata": {},
     "output_type": "display_data"
    }
   ],
   "source": [
    "# Your Code Here\n",
    "set.seed(42)\n",
    "sims = 1000\n",
    "\n",
    "# Vectors representing the two bags\n",
    "bag_one = c(rep(\"GOLD\", 3), rep(\"NOT GOLD\", 13))\n",
    "bag_two = c(rep(\"GOLD\", 15), rep(\"NOT GOLD\", 9))\n",
    "\n",
    "# Vector to store simulation results\n",
    "Gold = rep(0, sims)\n",
    "\n",
    "choose_from_bag <- function(){\n",
    "    # Generate random number for choosing bag\n",
    "    bag = runif(1)\n",
    "    # bag 1 has a 2/3 probability of being chosen, else choose bag 2\n",
    "    if (bag <= (2/3)){\n",
    "        # Choose a random marble from the bag\n",
    "       return(sample(bag_one, 1))\n",
    "    } else {return(sample(bag_two, 1))}\n",
    "}\n",
    "\n",
    "for(i in 1:sims){Gold[i] = choose_from_bag() }\n",
    "\n",
    "# Results are very similar to the solution from part a)\n",
    "(table(Gold)/sims)*100"
   ]
  },
  {
   "cell_type": "markdown",
   "metadata": {},
   "source": [
    "# Problem 3\n",
    "\n",
    "Suppose you roll a fair die two times. Let $A$ be the event \"the sum of the throws equals 5\" and $B$ be the event \"at least one of the throws is a $4$\"."
   ]
  },
  {
   "cell_type": "markdown",
   "metadata": {},
   "source": [
    "**Part a)** \n",
    "\n",
    "By hand, solve for the probability that the sum of the throws equals 5, given that at least one of the throws is a 4. That is, solve $P(A|B)$."
   ]
  },
  {
   "cell_type": "markdown",
   "metadata": {},
   "source": [
    "P(A|B) = P(B|A)P(A) / P(B)\n",
    "\n",
    "P_A = 4/36 </br>\n",
    "\n",
    "P_B = 12/36 </br>\n",
    "\n",
    "P_B_given_A = 1/6"
   ]
  },
  {
   "cell_type": "code",
   "execution_count": 5,
   "metadata": {},
   "outputs": [
    {
     "data": {
      "text/html": [
       "0.0555555555555556"
      ],
      "text/latex": [
       "0.0555555555555556"
      ],
      "text/markdown": [
       "0.0555555555555556"
      ],
      "text/plain": [
       "[1] 0.05555556"
      ]
     },
     "metadata": {},
     "output_type": "display_data"
    }
   ],
   "source": [
    "p_A = 4/36\n",
    "p_B = 12/36\n",
    "p_B_given_A = 1/6\n",
    "\n",
    "p_A_given_B  = (p_B_given_A * p_A)/p_B\n",
    "p_A_given_B"
   ]
  },
  {
   "cell_type": "markdown",
   "metadata": {},
   "source": [
    "**Part b)**\n",
    "\n",
    "Write a simple simulation to confirm our result. Make sure you run your simulation enough times to be confident in your result.\n",
    "\n",
    "Hint: Think about the definition of conditional probability."
   ]
  },
  {
   "cell_type": "code",
   "execution_count": 6,
   "metadata": {},
   "outputs": [
    {
     "data": {
      "text/plain": [
       "roll_results\n",
       "    0     1 \n",
       "0.945 0.055 "
      ]
     },
     "metadata": {},
     "output_type": "display_data"
    }
   ],
   "source": [
    "#set.seed(42)\n",
    "sims = 10000\n",
    "\n",
    "# Vector representing possible outcomes of the die\n",
    "dice = c(1,2,3,4,5,6)\n",
    "\n",
    "# Vector to store simulation results\n",
    "roll_results = rep(0, sims)\n",
    "\n",
    "roll_two_die <- function(){\n",
    "    roll_one = sample(dice, 1)\n",
    "    roll_two = sample(dice, 1)\n",
    "    one_is_four = (roll_one == 4) | (roll_two == 4)\n",
    "    sum_to_five = ((roll_one + roll_two) == 5)\n",
    "    # Essentially we're looking for A and B\n",
    "    if (one_is_four & sum_to_five){\n",
    "        # Choose a random marble from the bag\n",
    "       return(TRUE)\n",
    "    } else {return(FALSE)}\n",
    "}\n",
    "\n",
    "# Assign experiment Vector with Results\n",
    "for(i in 1:length(roll_results)){roll_results[i] = roll_two_die()}\n",
    "\n",
    "# results are very similar to the calculation by hand\n",
    "table(roll_results)/sims"
   ]
  },
  {
   "cell_type": "code",
   "execution_count": null,
   "metadata": {},
   "outputs": [],
   "source": []
  }
 ],
 "metadata": {
  "kernelspec": {
   "display_name": "Python 3",
   "language": "python",
   "name": "python3"
  },
  "language_info": {
   "codemirror_mode": {
    "name": "ipython",
    "version": 3
   },
   "file_extension": ".py",
   "mimetype": "text/x-python",
   "name": "python",
   "nbconvert_exporter": "python",
   "pygments_lexer": "ipython3",
   "version": "3.8.6"
  }
 },
 "nbformat": 4,
 "nbformat_minor": 4
}
