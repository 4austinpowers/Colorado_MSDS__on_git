{
 "cells": [
  {
   "cell_type": "markdown",
   "metadata": {},
   "source": [
    "# Module 3 Peer Review Assignment"
   ]
  },
  {
   "cell_type": "markdown",
   "metadata": {},
   "source": [
    "# Problem 1\n",
    "\n",
    "You work at a factory that manufactures light bulbs. You have determined that $5\\%$ of light bulbs that are produced are defective. For each of the scenarios below:\n",
    "\n",
    "1. Define an appropriate random variable and distribution.\n",
    "2. State the values that the random variable can take on.\n",
    "3. State any assumptions that you need to make.\n",
    "4. Find the probability that the random variable you defined takes on the value $X=4$."
   ]
  },
  {
   "cell_type": "markdown",
   "metadata": {},
   "source": [
    "**Part a)**\n",
    "\n",
    "Out of 30 lightbulbs, $k$ are defective."
   ]
  },
  {
   "cell_type": "markdown",
   "metadata": {},
   "source": [
    "1) Binomial Random Variable\n",
    "\n",
    "2) k, the number of defective bulbs found, can be 0 to 30\n",
    "\n",
    "3) There are only two possible outcomes. Each bulb has probability of being defective of 0.05. Each bulb is independent of the others.\n",
    "\n",
    "4) 0.0451"
   ]
  },
  {
   "cell_type": "code",
   "execution_count": 9,
   "metadata": {},
   "outputs": [
    {
     "data": {
      "text/html": [
       "0.0451360511802104"
      ],
      "text/latex": [
       "0.0451360511802104"
      ],
      "text/markdown": [
       "0.0451360511802104"
      ],
      "text/plain": [
       "[1] 0.04513605"
      ]
     },
     "metadata": {},
     "output_type": "display_data"
    }
   ],
   "source": [
    "n = 30\n",
    "k = 4\n",
    "p = 0.05\n",
    "\n",
    "# Calculate the probability of finding 4 defective bulbs out of 30\n",
    "choose(30, k)*(p^k)*((1-p)^(n-k))"
   ]
  },
  {
   "cell_type": "markdown",
   "metadata": {},
   "source": [
    "**Part b)**\n",
    "\n",
    "You test each lightbulb as it comes of the line. The $k^{th}$ light bulb is defective."
   ]
  },
  {
   "cell_type": "markdown",
   "metadata": {},
   "source": [
    "1) Geometric Series\n",
    "\n",
    "2) k can be 1 through infinity (unbounded).\n",
    "\n",
    "3) There are only two possible outcomes. Each bulb is independent of the others (i.e. no batches of defective bulbs) and has an equal probability of being defective. Bulbs will be checked until a defective bulb is found.\n",
    "\n",
    "4) 0.0429"
   ]
  },
  {
   "cell_type": "code",
   "execution_count": 5,
   "metadata": {},
   "outputs": [
    {
     "data": {
      "text/html": [
       "0.04286875"
      ],
      "text/latex": [
       "0.04286875"
      ],
      "text/markdown": [
       "0.04286875"
      ],
      "text/plain": [
       "[1] 0.04286875"
      ]
     },
     "metadata": {},
     "output_type": "display_data"
    }
   ],
   "source": [
    "k = 4\n",
    "p = 0.05\n",
    "\n",
    "((1-p)^(k-1))*p"
   ]
  },
  {
   "cell_type": "markdown",
   "metadata": {},
   "source": [
    "**Part c)**\n",
    "\n",
    "You find your second defective drive after observing $k$ drives in all."
   ]
  },
  {
   "cell_type": "markdown",
   "metadata": {},
   "source": [
    "1) Negative Binomial\n",
    "\n",
    "2) k can be 2 through infinity (unbounded).\n",
    "\n",
    "3) There are only two possible outcomes. Each bulb is independent of the others (i.e. no batches of defective bulbs) and has an equal probability of being defective. \n",
    "\n",
    "4) 0.0002078 # or 2.078 *10^-5"
   ]
  },
  {
   "cell_type": "code",
   "execution_count": 10,
   "metadata": {},
   "outputs": [
    {
     "data": {
      "text/html": [
       "2.07756232686981e-05"
      ],
      "text/latex": [
       "2.07756232686981e-05"
      ],
      "text/markdown": [
       "2.07756232686981e-05"
      ],
      "text/plain": [
       "[1] 2.077562e-05"
      ]
     },
     "metadata": {},
     "output_type": "display_data"
    }
   ],
   "source": [
    "n = 2\n",
    "k = 4\n",
    "p = 0.05\n",
    "\n",
    "choose(k-1,n)*(p^k)*((1-p)^(n-k))"
   ]
  },
  {
   "cell_type": "markdown",
   "metadata": {},
   "source": [
    "# Problem 2\n",
    "\n",
    "Consider a loaded six-sided die that is twice as likely to roll an even number as an odd number. Let $X$ be random variable for value that is rolled from the die."
   ]
  },
  {
   "cell_type": "markdown",
   "metadata": {},
   "source": [
    "**Part a)**\n",
    "\n",
    "What is the Probability Mass Function for $X$. Write this out as a table."
   ]
  },
  {
   "cell_type": "markdown",
   "metadata": {},
   "source": [
    "| Number | Probability |\n",
    "| --- | --- |\n",
    "|1| 0.1111 |\n",
    "|2| 0.2222|\n",
    "|3| 0.1111 |\n",
    "|4| 0.2222|\n",
    "|5| 0.1111 |\n",
    "|6| 0.2222 |\n"
   ]
  },
  {
   "cell_type": "markdown",
   "metadata": {},
   "source": [
    "**Part b)**\n",
    "\n",
    "What is the Cumulative Distribution Function for $X$?"
   ]
  },
  {
   "cell_type": "markdown",
   "metadata": {},
   "source": [
    "| Number | Cumulative Probability |\n",
    "| --- | --- |\n",
    "|1| 0.1111 |\n",
    "|2| 0.3333|\n",
    "|3| 0.4444 |\n",
    "|4| 0.6666|\n",
    "|5| 0.77777 |\n",
    "|6| 1 |"
   ]
  },
  {
   "cell_type": "code",
   "execution_count": 22,
   "metadata": {},
   "outputs": [
    {
     "data": {
      "image/png": "[encoded data removed]",
      "text/plain": [
       "Plot with title “Cumulative Probability”"
      ]
     },
     "metadata": {
      "image/png": {
       "height": 420,
       "width": 420
      },
      "text/plain": {
       "height": 420,
       "width": 420
      }
     },
     "output_type": "display_data"
    }
   ],
   "source": [
    "barplot(c(0.111, 0.3333, 0.4444, 0.6666, 0.7777, 1), names.arg = c(1,2,3,4,5,6), ylab = 'Cumulative Probabilty', main = 'Cumulative Probability')"
   ]
  },
  {
   "cell_type": "markdown",
   "metadata": {},
   "source": [
    "**Part c)** \n",
    "\n",
    "What is $E[X]$?"
   ]
  },
  {
   "cell_type": "markdown",
   "metadata": {},
   "source": [
    "E[X] = The sum of all probabilities * their possible values\n",
    "\n",
    "E[X] = 3.667"
   ]
  },
  {
   "cell_type": "markdown",
   "metadata": {},
   "source": [
    "# Problem 3\n",
    "\n",
    "How would we simulate variables from these distributions in R? It'll turn out that the method is fairly similar across all these distributions so, for simplicity, let's just say we want to simulate $X \\sim Bin(n,p)$. Take a look at the official documentation for this function [here](https://www.rdocumentation.org/packages/stats/versions/3.3/topics/Binomial). Not extremely clear, is it? Let's go through it one step at a time."
   ]
  },
  {
   "cell_type": "markdown",
   "metadata": {},
   "source": [
    "**Part a)** \n",
    "\n",
    "What if we want a random variable from this distribution? That is, we know some underlying distribution and we want to simulate many results from that distribution. Then we would use the \"random generation\" function `rbinom()`.\n",
    "\n",
    "Play around with this function, with different `size` and `prob` parameters to get a feel for how it works. Finally, generate $30$ results from a $Bin(10, 0.3)$ distribution and plot a histogram of the results."
   ]
  },
  {
   "cell_type": "code",
   "execution_count": 49,
   "metadata": {},
   "outputs": [
    {
     "data": {
      "image/png": "[encoded data removed]",
      "text/plain": [
       "Plot with title “Bin(10, 0.3)”"
      ]
     },
     "metadata": {
      "image/png": {
       "height": 420,
       "width": 420
      },
      "text/plain": {
       "height": 420,
       "width": 420
      }
     },
     "output_type": "display_data"
    }
   ],
   "source": [
    "bin = rbinom(n=30, size=10, prob=0.3)\n",
    "hist(bin, main='Bin(10, 0.3)')"
   ]
  },
  {
   "cell_type": "markdown",
   "metadata": {},
   "source": [
    "**Part b)**\n",
    "\n",
    "What if we have some value $k$ and we want to know what's probability of generating $k$? That is, we're solving the Probability Mass Function $P(X=k)$. Then we would use the \"density\" function `dbinom()`.\n",
    "\n",
    "Let $X \\sim Bin(15, 0.4)$. By hand, solve $P(X=4)$. Then use the `dbinom()` function to confirm your result."
   ]
  },
  {
   "cell_type": "code",
   "execution_count": 56,
   "metadata": {},
   "outputs": [
    {
     "name": "stdout",
     "output_type": "stream",
     "text": [
      "[1] 0.1267758\n"
     ]
    },
    {
     "data": {
      "text/html": [
       "0.12677580324864"
      ],
      "text/latex": [
       "0.12677580324864"
      ],
      "text/markdown": [
       "0.12677580324864"
      ],
      "text/plain": [
       "[1] 0.1267758"
      ]
     },
     "metadata": {},
     "output_type": "display_data"
    }
   ],
   "source": [
    "# YOUR CODE HERE\n",
    "by_hand = choose(15, 4)*(0.4^4)*(0.6^11)\n",
    "print(by_hand)\n",
    "\n",
    "# using dbinom\n",
    "dbinom(x=4, size=15, prob=0.4)"
   ]
  },
  {
   "cell_type": "markdown",
   "metadata": {},
   "source": [
    "**Part c)**\n",
    "\n",
    "What if we wanted to solve for some value of the Cumulative Density Function? That is, we know $k$ and want to find $P(X \\le k) = p$. Then we would use the \"distribution function\" `pbinom()`.\n",
    "\n",
    "Let $X \\sim Bin(15, 0.4)$. By hand, solve $P(X \\le 4)$. Then use the `qbinom()` function to confirm your result."
   ]
  },
  {
   "cell_type": "code",
   "execution_count": 60,
   "metadata": {},
   "outputs": [
    {
     "name": "stdout",
     "output_type": "stream",
     "text": [
      "[1] 0.2172777\n"
     ]
    },
    {
     "data": {
      "text/html": [
       "0.217277705650176"
      ],
      "text/latex": [
       "0.217277705650176"
      ],
      "text/markdown": [
       "0.217277705650176"
      ],
      "text/plain": [
       "[1] 0.2172777"
      ]
     },
     "metadata": {},
     "output_type": "display_data"
    }
   ],
   "source": [
    "by_hand_0 = 0.6^15\n",
    "by_hand_1 = (15*0.4)*(0.6^14)\n",
    "by_hand_2 = choose(15, 2)*(0.4^2)*(0.6^13)\n",
    "by_hand_3 = choose(15, 3)*(0.4^3)*(0.6^12)\n",
    "by_hand_4 = choose(15, 4)*(0.4^4)*(0.6^11)\n",
    "\n",
    "by_hand = by_hand_0 + by_hand_1 + by_hand_2 + by_hand_3 + by_hand_4\n",
    "print(by_hand)\n",
    "\n",
    "# YOUR CODE HERE\n",
    "pbinom(q=4, size = 15, prob=0.4)"
   ]
  },
  {
   "cell_type": "markdown",
   "metadata": {},
   "source": [
    "**Part d)**\n",
    "\n",
    "Finally, we have the \"quantile\" function `qbinom()`. This function is the reverse of the `pbinom()` function, in that it takes a probability $p$ as an argument and returns the value $k$ of the CDF that results in that much probability.\n",
    "\n",
    "Use the `qbinom()` function to confirm your results from **Part c**. That is, plug in the probablity you got from **Part c** and see if you get the same $k$."
   ]
  },
  {
   "cell_type": "code",
   "execution_count": 70,
   "metadata": {},
   "outputs": [
    {
     "data": {
      "text/html": [
       "4"
      ],
      "text/latex": [
       "4"
      ],
      "text/markdown": [
       "4"
      ],
      "text/plain": [
       "[1] 4"
      ]
     },
     "metadata": {},
     "output_type": "display_data"
    }
   ],
   "source": [
    "# YOUR CODE HERE\n",
    "qbinom(p=0.21722, size=15, prob=0.4)"
   ]
  },
  {
   "cell_type": "markdown",
   "metadata": {},
   "source": [
    "Nearly every distribution has these four functions, and they will be very useful for our future calculations and simulations."
   ]
  }
 ],
 "metadata": {
  "kernelspec": {
   "display_name": "R",
   "language": "R",
   "name": "ir"
  },
  "language_info": {
   "codemirror_mode": "r",
   "file_extension": ".r",
   "mimetype": "text/x-r-source",
   "name": "R",
   "pygments_lexer": "r",
   "version": "3.6.3"
  }
 },
 "nbformat": 4,
 "nbformat_minor": 4
}
